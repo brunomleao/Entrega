{
  "nbformat": 4,
  "nbformat_minor": 0,
  "metadata": {
    "colab": {
      "provenance": []
    },
    "kernelspec": {
      "name": "python3",
      "display_name": "Python 3"
    },
    "language_info": {
      "name": "python"
    }
  },
  "cells": [
    {
      "cell_type": "code",
      "execution_count": 2,
      "metadata": {
        "colab": {
          "base_uri": "https://localhost:8080/"
        },
        "id": "Doreem4yKKCO",
        "outputId": "6992ca00-9a5e-4693-e0e1-67369a692b40"
      },
      "outputs": [
        {
          "output_type": "stream",
          "name": "stdout",
          "text": [
            "Collecting pytelegrambotapi\n",
            "  Downloading pytelegrambotapi-4.16.1-py3-none-any.whl (232 kB)\n",
            "\u001b[?25l     \u001b[90m━━━━━━━━━━━━━━━━━━━━━━━━━━━━━━━━━━━━━━━━\u001b[0m \u001b[32m0.0/232.2 kB\u001b[0m \u001b[31m?\u001b[0m eta \u001b[36m-:--:--\u001b[0m\r\u001b[2K     \u001b[91m━━━━━━━━━━━━━━━━━━━━━━━━━━━━━━━━━━━━━━\u001b[0m\u001b[91m╸\u001b[0m\u001b[90m━\u001b[0m \u001b[32m225.3/232.2 kB\u001b[0m \u001b[31m6.6 MB/s\u001b[0m eta \u001b[36m0:00:01\u001b[0m\r\u001b[2K     \u001b[90m━━━━━━━━━━━━━━━━━━━━━━━━━━━━━━━━━━━━━━━━\u001b[0m \u001b[32m232.2/232.2 kB\u001b[0m \u001b[31m5.0 MB/s\u001b[0m eta \u001b[36m0:00:00\u001b[0m\n",
            "\u001b[?25hRequirement already satisfied: requests in /usr/local/lib/python3.10/dist-packages (from pytelegrambotapi) (2.31.0)\n",
            "Requirement already satisfied: charset-normalizer<4,>=2 in /usr/local/lib/python3.10/dist-packages (from requests->pytelegrambotapi) (3.3.2)\n",
            "Requirement already satisfied: idna<4,>=2.5 in /usr/local/lib/python3.10/dist-packages (from requests->pytelegrambotapi) (3.6)\n",
            "Requirement already satisfied: urllib3<3,>=1.21.1 in /usr/local/lib/python3.10/dist-packages (from requests->pytelegrambotapi) (2.0.7)\n",
            "Requirement already satisfied: certifi>=2017.4.17 in /usr/local/lib/python3.10/dist-packages (from requests->pytelegrambotapi) (2024.2.2)\n",
            "Installing collected packages: pytelegrambotapi\n",
            "Successfully installed pytelegrambotapi-4.16.1\n"
          ]
        }
      ],
      "source": [
        "pip install pytelegrambotapi --upgrade"
      ]
    },
    {
      "cell_type": "code",
      "source": [
        "import telebot\n",
        "\n",
        "bot = telebot.TeleBot(\"6942245502:AAGFCpJw4LTr9oCfugHYrSoMWSa7SaM0Iik\")\n",
        "\n",
        "contexto = {}\n",
        "\n",
        "def update_contexto(message):\n",
        "    contexto[message.chat.id] = message.text\n",
        "\n",
        "def check_contexto(message):\n",
        "    if message.text in contexto.get(message.chat.id, ''):\n",
        "        if message.text == \"Qual é a sua cor favorita?\":\n",
        "            bot.reply_to(message, \"Você já me perguntou minha cor favorita!\")\n",
        "        elif message.text == \"Qual é a capital do Brasil?\":\n",
        "            bot.reply_to(message, \"Você já me perguntou a capital do Brasil!\")\n",
        "        elif message.text == \"Quanto é 2 + 2?\":\n",
        "            bot.reply_to(message, \"Você já me perguntou quanto é 2+2!\")\n",
        "        elif message.text == \"Você gosta de programar?\":\n",
        "            bot.reply_to(message, \"Você já me perguntou se gosto de programar!\")\n",
        "\n",
        "@bot.message_handler(commands=['start', 'help'])\n",
        "def send_welcome(message):\n",
        "    bot.reply_to(message, \"Olá, sou um chatbot desenvolvido pelo Bruno para a entrega da atividade ponderada da semana 7.\")\n",
        "\n",
        "@bot.message_handler(regexp=r'Qual é a sua cor favorita\\?')\n",
        "def favorite_color(message):\n",
        "    if message.text not in contexto.get(message.chat.id, ''):\n",
        "        bot.reply_to(message, message.chat.first_name + \", minha cor favorita é verde!\")\n",
        "        update_contexto(message)\n",
        "    else:\n",
        "        check_contexto(message)\n",
        "\n",
        "@bot.message_handler(regexp=r'Qual é a capital do Brasil\\?')\n",
        "def capital_brasil(message):\n",
        "    if message.text not in contexto.get(message.chat.id, ''):\n",
        "        bot.reply_to(message, \"A capital do Brasil é Brasília!\")\n",
        "        update_contexto(message)\n",
        "    else:\n",
        "        check_contexto(message)\n",
        "\n",
        "@bot.message_handler(regexp=r'Quanto é 2 \\+ 2\\?')\n",
        "def math_question(message):\n",
        "    if message.text not in contexto.get(message.chat.id, ''):\n",
        "        bot.reply_to(message, \"2 + 2 é igual a 4!\")\n",
        "        update_contexto(message)\n",
        "    else:\n",
        "        check_contexto(message)\n",
        "\n",
        "@bot.message_handler(regexp=r'Você gosta de programar\\?')\n",
        "def programming_question(message):\n",
        "    if message.text not in contexto.get(message.chat.id, ''):\n",
        "        bot.reply_to(message, \"Sim, eu gosto de programar!\")\n",
        "        update_contexto(message)\n",
        "    else:\n",
        "        check_contexto(message)\n",
        "\n",
        "@bot.message_handler(func=lambda message: True)\n",
        "def echo_all(message):\n",
        "    bot.reply_to(message, \"Estou configurado para responder apenas 4 perguntas: Qual é a sua cor favorita?, Qual é a capital do Brasil?, Quanto é 2 + 2?, Você gosta de programar?\")\n",
        "\n",
        "bot.infinity_polling()"
      ],
      "metadata": {
        "colab": {
          "base_uri": "https://localhost:8080/"
        },
        "id": "-FQHmSWgKV1g",
        "outputId": "7e6d8d8b-37a5-4a00-eba7-1628545aa23d"
      },
      "execution_count": 3,
      "outputs": [
        {
          "output_type": "stream",
          "name": "stderr",
          "text": [
            "2024-03-25 13:23:40,092 (__init__.py:1027 MainThread) ERROR - TeleBot: \"Infinity polling: polling exited\"\n",
            "ERROR:TeleBot:Infinity polling: polling exited\n",
            "2024-03-25 13:23:40,096 (__init__.py:1029 MainThread) ERROR - TeleBot: \"Break infinity polling\"\n",
            "ERROR:TeleBot:Break infinity polling\n"
          ]
        }
      ]
    },
    {
      "cell_type": "code",
      "source": [],
      "metadata": {
        "id": "JJYDQdN3Ncqw"
      },
      "execution_count": 17,
      "outputs": []
    }
  ]
}